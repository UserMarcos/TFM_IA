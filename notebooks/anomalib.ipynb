{
 "cells": [
  {
   "cell_type": "markdown",
   "id": "7b4a26ef-9fc7-4a57-a1a1-fa4244e600a4",
   "metadata": {},
   "source": [
    "# Pruebas con la librería _anomalib_\n",
    "- Importamos librerías"
   ]
  },
  {
   "cell_type": "code",
   "execution_count": 60,
   "id": "6d44a0f3-f4e0-4dff-99a3-128e8d3334bf",
   "metadata": {},
   "outputs": [],
   "source": [
    "from anomalib.data import MVTecAD\n",
    "from anomalib.deploy import ExportType\n",
    "from anomalib.engine import Engine\n",
    "from anomalib.models import Patchcore"
   ]
  },
  {
   "cell_type": "markdown",
   "id": "13c1e2cd-e1db-4c16-93f3-310c4a75dee6",
   "metadata": {},
   "source": [
    "- Creamos el _dataset_"
   ]
  },
  {
   "cell_type": "code",
   "execution_count": 54,
   "id": "e903d872-368e-4d13-bb63-22f2ec1736f5",
   "metadata": {},
   "outputs": [],
   "source": [
    "from torchvision.transforms import v2\n",
    "\n",
    "augmentations = v2.Compose([   \n",
    "    v2.Pad(50, 255, \"edge\"),\n",
    "    # v2.CenterCrop(600),\n",
    "    v2.RandomResizedCrop(size=(224, 224), scale=(0.8, 1.0)),\n",
    "    v2.RandomHorizontalFlip(),\n",
    "    v2.RandomVerticalFlip()\n",
    "])"
   ]
  },
  {
   "cell_type": "code",
   "execution_count": 59,
   "id": "9ed43321-8f2f-40b3-9014-cc8c191e017c",
   "metadata": {},
   "outputs": [],
   "source": [
    "# MVTecAD is a popular dataset for anomaly detection\n",
    "datamodule = MVTecAD(\n",
    "    root=\"./datasets/MVTecAD\",  # Path to download/store the dataset\n",
    "    category=\"bottle\",  # MVTec category to use\n",
    "    train_batch_size=32,  # Number of images per training batch\n",
    "    eval_batch_size=32,  # Number of images per validation/test batch\n",
    "    #augmentations = augmentations,\n",
    "    train_augmentations=augmentations,\n",
    "    augmentations=None\n",
    ")"
   ]
  },
  {
   "cell_type": "code",
   "execution_count": 56,
   "id": "b6d61341-a59b-4716-9f51-f387bb976cec",
   "metadata": {},
   "outputs": [],
   "source": [
    "datamodule.setup(stage = \"fit\")"
   ]
  },
  {
   "cell_type": "code",
   "execution_count": 57,
   "id": "4ddfde92-de1e-455b-82c9-ae9552f11a29",
   "metadata": {},
   "outputs": [
    {
     "name": "stdout",
     "output_type": "stream",
     "text": [
      "Formato del batch:  torch.Size([32, 3, 900, 900])\n",
      "Tamaño del batch:  32\n",
      "torch.Size([3, 900, 900])\n"
     ]
    }
   ],
   "source": [
    "mi_DataLoader = datamodule.train_dataloader()\n",
    "batch = next(iter(mi_DataLoader))\n",
    "\n",
    "print(\"Formato del batch: \", batch.image.shape)\n",
    "print(\"Tamaño del batch: \", batch.batch_size)\n",
    "\n",
    "print(datamodule.train_data[0].image.shape)"
   ]
  },
  {
   "cell_type": "markdown",
   "id": "3a472cd4-bada-407c-a1cc-3ae7230a8a08",
   "metadata": {},
   "source": [
    "- Inicialización del modelo"
   ]
  },
  {
   "cell_type": "code",
   "execution_count": 61,
   "id": "7ea6f000-74b2-43c6-b39d-9cc7c2476a7b",
   "metadata": {},
   "outputs": [],
   "source": [
    "# Patchcore is a good choice for beginners\n",
    "model = Patchcore(\n",
    "    num_neighbors=6,  # Override default model settings\n",
    ")"
   ]
  },
  {
   "cell_type": "code",
   "execution_count": null,
   "id": "a541e871-20ae-4932-9406-46479a10eec9",
   "metadata": {},
   "outputs": [],
   "source": [
    "# Vemos que pre_processor tiene el modelo\n",
    "pre_processor = model.pre_processor\n",
    "print(pre_processor.transform)"
   ]
  },
  {
   "cell_type": "markdown",
   "id": "dee99a5e-390e-4585-b78f-ad777a4c6abc",
   "metadata": {},
   "source": [
    "- Creamos el motor de entrenamiento"
   ]
  },
  {
   "cell_type": "code",
   "execution_count": null,
   "id": "4f2d4108-fcc5-402b-8f0a-cd15f03c6bb5",
   "metadata": {},
   "outputs": [],
   "source": [
    "engine = Engine(\n",
    "    max_epochs=1,  # Override default trainer settings\n",
    ")"
   ]
  },
  {
   "cell_type": "markdown",
   "id": "e32fca64-5453-4bf1-963a-0ad9e9681773",
   "metadata": {},
   "source": [
    "- Entrenamos el modelo"
   ]
  },
  {
   "cell_type": "code",
   "execution_count": null,
   "id": "e6223cd6-fa69-43f2-8f8e-bd70410fb22a",
   "metadata": {},
   "outputs": [],
   "source": [
    "# This produces a lightning model (.ckpt)\n",
    "engine.fit(datamodule=datamodule, model=model)"
   ]
  },
  {
   "cell_type": "markdown",
   "id": "eb5f2395-bd3e-4486-a01f-2a0d31bb928c",
   "metadata": {},
   "source": [
    "- Testeamos el resultado"
   ]
  },
  {
   "cell_type": "code",
   "execution_count": null,
   "id": "a86ee6cf-5030-4ec0-b145-105582f76cd9",
   "metadata": {},
   "outputs": [],
   "source": [
    "test_results = engine.test(datamodule=datamodule, model=model)"
   ]
  },
  {
   "cell_type": "code",
   "execution_count": null,
   "id": "87ca894d-e869-4986-a15f-934de48c24fd",
   "metadata": {},
   "outputs": [],
   "source": [
    "from anomalib.data import PredictDataset\n",
    "from pathlib import Path\n",
    "\n",
    "dataset = PredictDataset(\n",
    "    path=Path(\"datasets/MVTecAD/bottle/test/broken_large/000.png\"),\n",
    "    image_size=(256, 256),\n",
    ")"
   ]
  },
  {
   "cell_type": "code",
   "execution_count": null,
   "id": "09aa8d67-4f08-4e65-8801-359a2a09f258",
   "metadata": {},
   "outputs": [],
   "source": []
  }
 ],
 "metadata": {
  "kernelspec": {
   "display_name": "Python 3 (ipykernel)",
   "language": "python",
   "name": "python3"
  },
  "language_info": {
   "codemirror_mode": {
    "name": "ipython",
    "version": 3
   },
   "file_extension": ".py",
   "mimetype": "text/x-python",
   "name": "python",
   "nbconvert_exporter": "python",
   "pygments_lexer": "ipython3",
   "version": "3.12.3"
  }
 },
 "nbformat": 4,
 "nbformat_minor": 5
}
